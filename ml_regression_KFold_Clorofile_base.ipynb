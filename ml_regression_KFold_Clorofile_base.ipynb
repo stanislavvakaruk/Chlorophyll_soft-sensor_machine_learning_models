{
 "cells": [
  {
   "cell_type": "markdown",
   "metadata": {},
   "source": [
    "# Training"
   ]
  },
  {
   "cell_type": "code",
   "execution_count": 1,
   "metadata": {
    "ExecuteTime": {
     "end_time": "2022-02-11T16:11:19.530832Z",
     "start_time": "2022-02-11T16:09:32.929244Z"
    }
   },
   "outputs": [
    {
     "name": "stdout",
     "output_type": "stream",
     "text": [
      "Selected input column type: full\n",
      "Selected output column type:  ['EXO3(Chlorophyll_ug_L)']\n"
     ]
    },
    {
     "name": "stderr",
     "output_type": "stream",
     "text": [
      "/home/stan/anaconda3/envs/jupyter/lib/python3.7/site-packages/sklearn/linear_model/_coordinate_descent.py:648: ConvergenceWarning: Objective did not converge. You might want to increase the number of iterations, check the scale of the features or consider increasing regularisation. Duality gap: 7.153e+04, tolerance: 1.563e+01 Linear regression models with null weight for the l1 regularization term are more efficiently fitted using one of the solvers implemented in sklearn.linear_model.Ridge/RidgeCV instead.\n",
      "  coef_, l1_reg, l2_reg, X, y, max_iter, tol, rng, random, positive\n",
      "/home/stan/anaconda3/envs/jupyter/lib/python3.7/site-packages/sklearn/base.py:451: UserWarning: X does not have valid feature names, but PowerTransformer was fitted with feature names\n",
      "  \"X does not have valid feature names, but\"\n",
      "/home/stan/anaconda3/envs/jupyter/lib/python3.7/site-packages/sklearn/base.py:451: UserWarning: X does not have valid feature names, but PowerTransformer was fitted with feature names\n",
      "  \"X does not have valid feature names, but\"\n",
      "/home/stan/anaconda3/envs/jupyter/lib/python3.7/site-packages/sklearn/base.py:451: UserWarning: X does not have valid feature names, but PowerTransformer was fitted with feature names\n",
      "  \"X does not have valid feature names, but\"\n",
      "/home/stan/anaconda3/envs/jupyter/lib/python3.7/site-packages/sklearn/base.py:451: UserWarning: X does not have valid feature names, but PowerTransformer was fitted with feature names\n",
      "  \"X does not have valid feature names, but\"\n"
     ]
    },
    {
     "name": "stdout",
     "output_type": "stream",
     "text": [
      "Selected input column type: full\n",
      "Selected output column type:  ['EXO3(Chlorophyll_ug_L)']\n"
     ]
    },
    {
     "name": "stderr",
     "output_type": "stream",
     "text": [
      "/home/stan/anaconda3/envs/jupyter/lib/python3.7/site-packages/sklearn/linear_model/_coordinate_descent.py:648: ConvergenceWarning: Objective did not converge. You might want to increase the number of iterations, check the scale of the features or consider increasing regularisation. Duality gap: 7.287e+04, tolerance: 1.563e+01 Linear regression models with null weight for the l1 regularization term are more efficiently fitted using one of the solvers implemented in sklearn.linear_model.Ridge/RidgeCV instead.\n",
      "  coef_, l1_reg, l2_reg, X, y, max_iter, tol, rng, random, positive\n",
      "/home/stan/anaconda3/envs/jupyter/lib/python3.7/site-packages/sklearn/base.py:451: UserWarning: X does not have valid feature names, but PowerTransformer was fitted with feature names\n",
      "  \"X does not have valid feature names, but\"\n",
      "/home/stan/anaconda3/envs/jupyter/lib/python3.7/site-packages/sklearn/base.py:451: UserWarning: X does not have valid feature names, but PowerTransformer was fitted with feature names\n",
      "  \"X does not have valid feature names, but\"\n",
      "/home/stan/anaconda3/envs/jupyter/lib/python3.7/site-packages/sklearn/base.py:451: UserWarning: X does not have valid feature names, but PowerTransformer was fitted with feature names\n",
      "  \"X does not have valid feature names, but\"\n",
      "/home/stan/anaconda3/envs/jupyter/lib/python3.7/site-packages/sklearn/base.py:451: UserWarning: X does not have valid feature names, but PowerTransformer was fitted with feature names\n",
      "  \"X does not have valid feature names, but\"\n"
     ]
    },
    {
     "name": "stdout",
     "output_type": "stream",
     "text": [
      "Selected input column type: full\n",
      "Selected output column type:  ['EXO3(Chlorophyll_ug_L)']\n"
     ]
    },
    {
     "name": "stderr",
     "output_type": "stream",
     "text": [
      "/home/stan/anaconda3/envs/jupyter/lib/python3.7/site-packages/sklearn/linear_model/_coordinate_descent.py:648: ConvergenceWarning: Objective did not converge. You might want to increase the number of iterations, check the scale of the features or consider increasing regularisation. Duality gap: 7.320e+04, tolerance: 1.563e+01 Linear regression models with null weight for the l1 regularization term are more efficiently fitted using one of the solvers implemented in sklearn.linear_model.Ridge/RidgeCV instead.\n",
      "  coef_, l1_reg, l2_reg, X, y, max_iter, tol, rng, random, positive\n",
      "/home/stan/anaconda3/envs/jupyter/lib/python3.7/site-packages/sklearn/base.py:451: UserWarning: X does not have valid feature names, but PowerTransformer was fitted with feature names\n",
      "  \"X does not have valid feature names, but\"\n",
      "/home/stan/anaconda3/envs/jupyter/lib/python3.7/site-packages/sklearn/base.py:451: UserWarning: X does not have valid feature names, but PowerTransformer was fitted with feature names\n",
      "  \"X does not have valid feature names, but\"\n",
      "/home/stan/anaconda3/envs/jupyter/lib/python3.7/site-packages/sklearn/base.py:451: UserWarning: X does not have valid feature names, but PowerTransformer was fitted with feature names\n",
      "  \"X does not have valid feature names, but\"\n",
      "/home/stan/anaconda3/envs/jupyter/lib/python3.7/site-packages/sklearn/base.py:451: UserWarning: X does not have valid feature names, but PowerTransformer was fitted with feature names\n",
      "  \"X does not have valid feature names, but\"\n",
      "/home/stan/anaconda3/envs/jupyter/lib/python3.7/site-packages/sklearn/preprocessing/_data.py:3253: RuntimeWarning: divide by zero encountered in log\n",
      "  loglike = -n_samples / 2 * np.log(x_trans.var())\n"
     ]
    },
    {
     "name": "stdout",
     "output_type": "stream",
     "text": [
      "Selected input column type: full\n",
      "Selected output column type:  ['EXO3(Chlorophyll_ug_L)']\n"
     ]
    },
    {
     "name": "stderr",
     "output_type": "stream",
     "text": [
      "/home/stan/anaconda3/envs/jupyter/lib/python3.7/site-packages/sklearn/linear_model/_coordinate_descent.py:648: ConvergenceWarning: Objective did not converge. You might want to increase the number of iterations, check the scale of the features or consider increasing regularisation. Duality gap: 7.152e+04, tolerance: 1.563e+01 Linear regression models with null weight for the l1 regularization term are more efficiently fitted using one of the solvers implemented in sklearn.linear_model.Ridge/RidgeCV instead.\n",
      "  coef_, l1_reg, l2_reg, X, y, max_iter, tol, rng, random, positive\n",
      "/home/stan/anaconda3/envs/jupyter/lib/python3.7/site-packages/sklearn/base.py:451: UserWarning: X does not have valid feature names, but PowerTransformer was fitted with feature names\n",
      "  \"X does not have valid feature names, but\"\n",
      "/home/stan/anaconda3/envs/jupyter/lib/python3.7/site-packages/sklearn/base.py:451: UserWarning: X does not have valid feature names, but PowerTransformer was fitted with feature names\n",
      "  \"X does not have valid feature names, but\"\n",
      "/home/stan/anaconda3/envs/jupyter/lib/python3.7/site-packages/sklearn/base.py:451: UserWarning: X does not have valid feature names, but PowerTransformer was fitted with feature names\n",
      "  \"X does not have valid feature names, but\"\n",
      "/home/stan/anaconda3/envs/jupyter/lib/python3.7/site-packages/sklearn/base.py:451: UserWarning: X does not have valid feature names, but PowerTransformer was fitted with feature names\n",
      "  \"X does not have valid feature names, but\"\n",
      "/home/stan/anaconda3/envs/jupyter/lib/python3.7/site-packages/sklearn/preprocessing/_data.py:3253: RuntimeWarning: divide by zero encountered in log\n",
      "  loglike = -n_samples / 2 * np.log(x_trans.var())\n"
     ]
    },
    {
     "name": "stdout",
     "output_type": "stream",
     "text": [
      "Selected input column type: full\n",
      "Selected output column type:  ['EXO3(Chlorophyll_ug_L)']\n"
     ]
    },
    {
     "name": "stderr",
     "output_type": "stream",
     "text": [
      "/home/stan/anaconda3/envs/jupyter/lib/python3.7/site-packages/sklearn/linear_model/_coordinate_descent.py:648: ConvergenceWarning: Objective did not converge. You might want to increase the number of iterations, check the scale of the features or consider increasing regularisation. Duality gap: 7.301e+04, tolerance: 1.563e+01 Linear regression models with null weight for the l1 regularization term are more efficiently fitted using one of the solvers implemented in sklearn.linear_model.Ridge/RidgeCV instead.\n",
      "  coef_, l1_reg, l2_reg, X, y, max_iter, tol, rng, random, positive\n",
      "/home/stan/anaconda3/envs/jupyter/lib/python3.7/site-packages/sklearn/base.py:451: UserWarning: X does not have valid feature names, but PowerTransformer was fitted with feature names\n",
      "  \"X does not have valid feature names, but\"\n",
      "/home/stan/anaconda3/envs/jupyter/lib/python3.7/site-packages/sklearn/base.py:451: UserWarning: X does not have valid feature names, but PowerTransformer was fitted with feature names\n",
      "  \"X does not have valid feature names, but\"\n",
      "/home/stan/anaconda3/envs/jupyter/lib/python3.7/site-packages/sklearn/base.py:451: UserWarning: X does not have valid feature names, but PowerTransformer was fitted with feature names\n",
      "  \"X does not have valid feature names, but\"\n",
      "/home/stan/anaconda3/envs/jupyter/lib/python3.7/site-packages/sklearn/base.py:451: UserWarning: X does not have valid feature names, but PowerTransformer was fitted with feature names\n",
      "  \"X does not have valid feature names, but\"\n"
     ]
    },
    {
     "name": "stdout",
     "output_type": "stream",
     "text": [
      "Selected input column type: full\n",
      "Selected output column type:  ['EXO3(Chlorophyll_ug_L)']\n"
     ]
    },
    {
     "name": "stderr",
     "output_type": "stream",
     "text": [
      "/home/stan/anaconda3/envs/jupyter/lib/python3.7/site-packages/sklearn/linear_model/_coordinate_descent.py:648: ConvergenceWarning: Objective did not converge. You might want to increase the number of iterations, check the scale of the features or consider increasing regularisation. Duality gap: 7.262e+04, tolerance: 1.563e+01 Linear regression models with null weight for the l1 regularization term are more efficiently fitted using one of the solvers implemented in sklearn.linear_model.Ridge/RidgeCV instead.\n",
      "  coef_, l1_reg, l2_reg, X, y, max_iter, tol, rng, random, positive\n",
      "/home/stan/anaconda3/envs/jupyter/lib/python3.7/site-packages/sklearn/base.py:451: UserWarning: X does not have valid feature names, but PowerTransformer was fitted with feature names\n",
      "  \"X does not have valid feature names, but\"\n",
      "/home/stan/anaconda3/envs/jupyter/lib/python3.7/site-packages/sklearn/base.py:451: UserWarning: X does not have valid feature names, but PowerTransformer was fitted with feature names\n",
      "  \"X does not have valid feature names, but\"\n",
      "/home/stan/anaconda3/envs/jupyter/lib/python3.7/site-packages/sklearn/base.py:451: UserWarning: X does not have valid feature names, but PowerTransformer was fitted with feature names\n",
      "  \"X does not have valid feature names, but\"\n",
      "/home/stan/anaconda3/envs/jupyter/lib/python3.7/site-packages/sklearn/base.py:451: UserWarning: X does not have valid feature names, but PowerTransformer was fitted with feature names\n",
      "  \"X does not have valid feature names, but\"\n"
     ]
    },
    {
     "name": "stdout",
     "output_type": "stream",
     "text": [
      "Selected input column type: full\n",
      "Selected output column type:  ['EXO3(Chlorophyll_ug_L)']\n"
     ]
    },
    {
     "name": "stderr",
     "output_type": "stream",
     "text": [
      "/home/stan/anaconda3/envs/jupyter/lib/python3.7/site-packages/sklearn/linear_model/_coordinate_descent.py:648: ConvergenceWarning: Objective did not converge. You might want to increase the number of iterations, check the scale of the features or consider increasing regularisation. Duality gap: 7.304e+04, tolerance: 1.563e+01 Linear regression models with null weight for the l1 regularization term are more efficiently fitted using one of the solvers implemented in sklearn.linear_model.Ridge/RidgeCV instead.\n",
      "  coef_, l1_reg, l2_reg, X, y, max_iter, tol, rng, random, positive\n",
      "/home/stan/anaconda3/envs/jupyter/lib/python3.7/site-packages/sklearn/base.py:451: UserWarning: X does not have valid feature names, but PowerTransformer was fitted with feature names\n",
      "  \"X does not have valid feature names, but\"\n",
      "/home/stan/anaconda3/envs/jupyter/lib/python3.7/site-packages/sklearn/base.py:451: UserWarning: X does not have valid feature names, but PowerTransformer was fitted with feature names\n",
      "  \"X does not have valid feature names, but\"\n",
      "/home/stan/anaconda3/envs/jupyter/lib/python3.7/site-packages/sklearn/base.py:451: UserWarning: X does not have valid feature names, but PowerTransformer was fitted with feature names\n",
      "  \"X does not have valid feature names, but\"\n",
      "/home/stan/anaconda3/envs/jupyter/lib/python3.7/site-packages/sklearn/base.py:451: UserWarning: X does not have valid feature names, but PowerTransformer was fitted with feature names\n",
      "  \"X does not have valid feature names, but\"\n"
     ]
    },
    {
     "name": "stdout",
     "output_type": "stream",
     "text": [
      "Selected input column type: full\n",
      "Selected output column type:  ['EXO3(Chlorophyll_ug_L)']\n"
     ]
    },
    {
     "name": "stderr",
     "output_type": "stream",
     "text": [
      "/home/stan/anaconda3/envs/jupyter/lib/python3.7/site-packages/sklearn/linear_model/_coordinate_descent.py:648: ConvergenceWarning: Objective did not converge. You might want to increase the number of iterations, check the scale of the features or consider increasing regularisation. Duality gap: 7.289e+04, tolerance: 1.563e+01 Linear regression models with null weight for the l1 regularization term are more efficiently fitted using one of the solvers implemented in sklearn.linear_model.Ridge/RidgeCV instead.\n",
      "  coef_, l1_reg, l2_reg, X, y, max_iter, tol, rng, random, positive\n",
      "/home/stan/anaconda3/envs/jupyter/lib/python3.7/site-packages/sklearn/base.py:451: UserWarning: X does not have valid feature names, but PowerTransformer was fitted with feature names\n",
      "  \"X does not have valid feature names, but\"\n",
      "/home/stan/anaconda3/envs/jupyter/lib/python3.7/site-packages/sklearn/base.py:451: UserWarning: X does not have valid feature names, but PowerTransformer was fitted with feature names\n",
      "  \"X does not have valid feature names, but\"\n",
      "/home/stan/anaconda3/envs/jupyter/lib/python3.7/site-packages/sklearn/base.py:451: UserWarning: X does not have valid feature names, but PowerTransformer was fitted with feature names\n",
      "  \"X does not have valid feature names, but\"\n",
      "/home/stan/anaconda3/envs/jupyter/lib/python3.7/site-packages/sklearn/base.py:451: UserWarning: X does not have valid feature names, but PowerTransformer was fitted with feature names\n",
      "  \"X does not have valid feature names, but\"\n"
     ]
    },
    {
     "name": "stdout",
     "output_type": "stream",
     "text": [
      "Selected input column type: full\n",
      "Selected output column type:  ['EXO3(Chlorophyll_ug_L)']\n"
     ]
    },
    {
     "name": "stderr",
     "output_type": "stream",
     "text": [
      "/home/stan/anaconda3/envs/jupyter/lib/python3.7/site-packages/sklearn/linear_model/_coordinate_descent.py:648: ConvergenceWarning: Objective did not converge. You might want to increase the number of iterations, check the scale of the features or consider increasing regularisation. Duality gap: 7.126e+04, tolerance: 1.563e+01 Linear regression models with null weight for the l1 regularization term are more efficiently fitted using one of the solvers implemented in sklearn.linear_model.Ridge/RidgeCV instead.\n",
      "  coef_, l1_reg, l2_reg, X, y, max_iter, tol, rng, random, positive\n",
      "/home/stan/anaconda3/envs/jupyter/lib/python3.7/site-packages/sklearn/base.py:451: UserWarning: X does not have valid feature names, but PowerTransformer was fitted with feature names\n",
      "  \"X does not have valid feature names, but\"\n",
      "/home/stan/anaconda3/envs/jupyter/lib/python3.7/site-packages/sklearn/base.py:451: UserWarning: X does not have valid feature names, but PowerTransformer was fitted with feature names\n",
      "  \"X does not have valid feature names, but\"\n",
      "/home/stan/anaconda3/envs/jupyter/lib/python3.7/site-packages/sklearn/base.py:451: UserWarning: X does not have valid feature names, but PowerTransformer was fitted with feature names\n",
      "  \"X does not have valid feature names, but\"\n",
      "/home/stan/anaconda3/envs/jupyter/lib/python3.7/site-packages/sklearn/base.py:451: UserWarning: X does not have valid feature names, but PowerTransformer was fitted with feature names\n",
      "  \"X does not have valid feature names, but\"\n"
     ]
    },
    {
     "name": "stdout",
     "output_type": "stream",
     "text": [
      "Selected input column type: full\n",
      "Selected output column type:  ['EXO3(Chlorophyll_ug_L)']\n"
     ]
    },
    {
     "name": "stderr",
     "output_type": "stream",
     "text": [
      "/home/stan/anaconda3/envs/jupyter/lib/python3.7/site-packages/sklearn/linear_model/_coordinate_descent.py:648: ConvergenceWarning: Objective did not converge. You might want to increase the number of iterations, check the scale of the features or consider increasing regularisation. Duality gap: 7.251e+04, tolerance: 1.563e+01 Linear regression models with null weight for the l1 regularization term are more efficiently fitted using one of the solvers implemented in sklearn.linear_model.Ridge/RidgeCV instead.\n",
      "  coef_, l1_reg, l2_reg, X, y, max_iter, tol, rng, random, positive\n",
      "/home/stan/anaconda3/envs/jupyter/lib/python3.7/site-packages/sklearn/base.py:451: UserWarning: X does not have valid feature names, but PowerTransformer was fitted with feature names\n",
      "  \"X does not have valid feature names, but\"\n",
      "/home/stan/anaconda3/envs/jupyter/lib/python3.7/site-packages/sklearn/base.py:451: UserWarning: X does not have valid feature names, but PowerTransformer was fitted with feature names\n",
      "  \"X does not have valid feature names, but\"\n",
      "/home/stan/anaconda3/envs/jupyter/lib/python3.7/site-packages/sklearn/base.py:451: UserWarning: X does not have valid feature names, but PowerTransformer was fitted with feature names\n",
      "  \"X does not have valid feature names, but\"\n",
      "/home/stan/anaconda3/envs/jupyter/lib/python3.7/site-packages/sklearn/base.py:451: UserWarning: X does not have valid feature names, but PowerTransformer was fitted with feature names\n",
      "  \"X does not have valid feature names, but\"\n"
     ]
    },
    {
     "name": "stdout",
     "output_type": "stream",
     "text": [
      "Selected input column type: full\n",
      "Selected output column type:  ['EXO3(Chlorophyll_ug_L)']\n"
     ]
    },
    {
     "name": "stderr",
     "output_type": "stream",
     "text": [
      "/home/stan/anaconda3/envs/jupyter/lib/python3.7/site-packages/sklearn/base.py:451: UserWarning: X does not have valid feature names, but PowerTransformer was fitted with feature names\n",
      "  \"X does not have valid feature names, but\"\n",
      "/home/stan/anaconda3/envs/jupyter/lib/python3.7/site-packages/sklearn/base.py:451: UserWarning: X does not have valid feature names, but PowerTransformer was fitted with feature names\n",
      "  \"X does not have valid feature names, but\"\n",
      "/home/stan/anaconda3/envs/jupyter/lib/python3.7/site-packages/sklearn/base.py:451: UserWarning: X does not have valid feature names, but PowerTransformer was fitted with feature names\n",
      "  \"X does not have valid feature names, but\"\n",
      "/home/stan/anaconda3/envs/jupyter/lib/python3.7/site-packages/sklearn/base.py:451: UserWarning: X does not have valid feature names, but PowerTransformer was fitted with feature names\n",
      "  \"X does not have valid feature names, but\"\n"
     ]
    },
    {
     "name": "stdout",
     "output_type": "stream",
     "text": [
      "Selected input column type: full\n",
      "Selected output column type:  ['EXO3(Chlorophyll_ug_L)']\n"
     ]
    },
    {
     "name": "stderr",
     "output_type": "stream",
     "text": [
      "/home/stan/anaconda3/envs/jupyter/lib/python3.7/site-packages/sklearn/base.py:451: UserWarning: X does not have valid feature names, but PowerTransformer was fitted with feature names\n",
      "  \"X does not have valid feature names, but\"\n",
      "/home/stan/anaconda3/envs/jupyter/lib/python3.7/site-packages/sklearn/base.py:451: UserWarning: X does not have valid feature names, but PowerTransformer was fitted with feature names\n",
      "  \"X does not have valid feature names, but\"\n",
      "/home/stan/anaconda3/envs/jupyter/lib/python3.7/site-packages/sklearn/base.py:451: UserWarning: X does not have valid feature names, but PowerTransformer was fitted with feature names\n",
      "  \"X does not have valid feature names, but\"\n",
      "/home/stan/anaconda3/envs/jupyter/lib/python3.7/site-packages/sklearn/base.py:451: UserWarning: X does not have valid feature names, but PowerTransformer was fitted with feature names\n",
      "  \"X does not have valid feature names, but\"\n"
     ]
    },
    {
     "name": "stdout",
     "output_type": "stream",
     "text": [
      "Selected input column type: full\n",
      "Selected output column type:  ['EXO3(Chlorophyll_ug_L)']\n"
     ]
    },
    {
     "name": "stderr",
     "output_type": "stream",
     "text": [
      "/home/stan/anaconda3/envs/jupyter/lib/python3.7/site-packages/sklearn/base.py:451: UserWarning: X does not have valid feature names, but PowerTransformer was fitted with feature names\n",
      "  \"X does not have valid feature names, but\"\n",
      "/home/stan/anaconda3/envs/jupyter/lib/python3.7/site-packages/sklearn/base.py:451: UserWarning: X does not have valid feature names, but PowerTransformer was fitted with feature names\n",
      "  \"X does not have valid feature names, but\"\n",
      "/home/stan/anaconda3/envs/jupyter/lib/python3.7/site-packages/sklearn/base.py:451: UserWarning: X does not have valid feature names, but PowerTransformer was fitted with feature names\n",
      "  \"X does not have valid feature names, but\"\n",
      "/home/stan/anaconda3/envs/jupyter/lib/python3.7/site-packages/sklearn/base.py:451: UserWarning: X does not have valid feature names, but PowerTransformer was fitted with feature names\n",
      "  \"X does not have valid feature names, but\"\n",
      "/home/stan/anaconda3/envs/jupyter/lib/python3.7/site-packages/sklearn/preprocessing/_data.py:3253: RuntimeWarning: divide by zero encountered in log\n",
      "  loglike = -n_samples / 2 * np.log(x_trans.var())\n"
     ]
    },
    {
     "name": "stdout",
     "output_type": "stream",
     "text": [
      "Selected input column type: full\n",
      "Selected output column type:  ['EXO3(Chlorophyll_ug_L)']\n"
     ]
    },
    {
     "name": "stderr",
     "output_type": "stream",
     "text": [
      "/home/stan/anaconda3/envs/jupyter/lib/python3.7/site-packages/sklearn/base.py:451: UserWarning: X does not have valid feature names, but PowerTransformer was fitted with feature names\n",
      "  \"X does not have valid feature names, but\"\n",
      "/home/stan/anaconda3/envs/jupyter/lib/python3.7/site-packages/sklearn/base.py:451: UserWarning: X does not have valid feature names, but PowerTransformer was fitted with feature names\n",
      "  \"X does not have valid feature names, but\"\n",
      "/home/stan/anaconda3/envs/jupyter/lib/python3.7/site-packages/sklearn/base.py:451: UserWarning: X does not have valid feature names, but PowerTransformer was fitted with feature names\n",
      "  \"X does not have valid feature names, but\"\n",
      "/home/stan/anaconda3/envs/jupyter/lib/python3.7/site-packages/sklearn/base.py:451: UserWarning: X does not have valid feature names, but PowerTransformer was fitted with feature names\n",
      "  \"X does not have valid feature names, but\"\n",
      "/home/stan/anaconda3/envs/jupyter/lib/python3.7/site-packages/sklearn/preprocessing/_data.py:3253: RuntimeWarning: divide by zero encountered in log\n",
      "  loglike = -n_samples / 2 * np.log(x_trans.var())\n"
     ]
    },
    {
     "name": "stdout",
     "output_type": "stream",
     "text": [
      "Selected input column type: full\n",
      "Selected output column type:  ['EXO3(Chlorophyll_ug_L)']\n"
     ]
    },
    {
     "name": "stderr",
     "output_type": "stream",
     "text": [
      "/home/stan/anaconda3/envs/jupyter/lib/python3.7/site-packages/sklearn/base.py:451: UserWarning: X does not have valid feature names, but PowerTransformer was fitted with feature names\n",
      "  \"X does not have valid feature names, but\"\n",
      "/home/stan/anaconda3/envs/jupyter/lib/python3.7/site-packages/sklearn/base.py:451: UserWarning: X does not have valid feature names, but PowerTransformer was fitted with feature names\n",
      "  \"X does not have valid feature names, but\"\n",
      "/home/stan/anaconda3/envs/jupyter/lib/python3.7/site-packages/sklearn/base.py:451: UserWarning: X does not have valid feature names, but PowerTransformer was fitted with feature names\n",
      "  \"X does not have valid feature names, but\"\n",
      "/home/stan/anaconda3/envs/jupyter/lib/python3.7/site-packages/sklearn/base.py:451: UserWarning: X does not have valid feature names, but PowerTransformer was fitted with feature names\n",
      "  \"X does not have valid feature names, but\"\n"
     ]
    },
    {
     "name": "stdout",
     "output_type": "stream",
     "text": [
      "Selected input column type: full\n",
      "Selected output column type:  ['EXO3(Chlorophyll_ug_L)']\n"
     ]
    },
    {
     "name": "stderr",
     "output_type": "stream",
     "text": [
      "/home/stan/anaconda3/envs/jupyter/lib/python3.7/site-packages/sklearn/base.py:451: UserWarning: X does not have valid feature names, but PowerTransformer was fitted with feature names\n",
      "  \"X does not have valid feature names, but\"\n",
      "/home/stan/anaconda3/envs/jupyter/lib/python3.7/site-packages/sklearn/base.py:451: UserWarning: X does not have valid feature names, but PowerTransformer was fitted with feature names\n",
      "  \"X does not have valid feature names, but\"\n",
      "/home/stan/anaconda3/envs/jupyter/lib/python3.7/site-packages/sklearn/base.py:451: UserWarning: X does not have valid feature names, but PowerTransformer was fitted with feature names\n",
      "  \"X does not have valid feature names, but\"\n",
      "/home/stan/anaconda3/envs/jupyter/lib/python3.7/site-packages/sklearn/base.py:451: UserWarning: X does not have valid feature names, but PowerTransformer was fitted with feature names\n",
      "  \"X does not have valid feature names, but\"\n"
     ]
    },
    {
     "name": "stdout",
     "output_type": "stream",
     "text": [
      "Selected input column type: full\n",
      "Selected output column type:  ['EXO3(Chlorophyll_ug_L)']\n"
     ]
    },
    {
     "name": "stderr",
     "output_type": "stream",
     "text": [
      "/home/stan/anaconda3/envs/jupyter/lib/python3.7/site-packages/sklearn/base.py:451: UserWarning: X does not have valid feature names, but PowerTransformer was fitted with feature names\n",
      "  \"X does not have valid feature names, but\"\n",
      "/home/stan/anaconda3/envs/jupyter/lib/python3.7/site-packages/sklearn/base.py:451: UserWarning: X does not have valid feature names, but PowerTransformer was fitted with feature names\n",
      "  \"X does not have valid feature names, but\"\n",
      "/home/stan/anaconda3/envs/jupyter/lib/python3.7/site-packages/sklearn/base.py:451: UserWarning: X does not have valid feature names, but PowerTransformer was fitted with feature names\n",
      "  \"X does not have valid feature names, but\"\n",
      "/home/stan/anaconda3/envs/jupyter/lib/python3.7/site-packages/sklearn/base.py:451: UserWarning: X does not have valid feature names, but PowerTransformer was fitted with feature names\n",
      "  \"X does not have valid feature names, but\"\n"
     ]
    },
    {
     "name": "stdout",
     "output_type": "stream",
     "text": [
      "Selected input column type: full\n",
      "Selected output column type:  ['EXO3(Chlorophyll_ug_L)']\n"
     ]
    },
    {
     "name": "stderr",
     "output_type": "stream",
     "text": [
      "/home/stan/anaconda3/envs/jupyter/lib/python3.7/site-packages/sklearn/base.py:451: UserWarning: X does not have valid feature names, but PowerTransformer was fitted with feature names\n",
      "  \"X does not have valid feature names, but\"\n",
      "/home/stan/anaconda3/envs/jupyter/lib/python3.7/site-packages/sklearn/base.py:451: UserWarning: X does not have valid feature names, but PowerTransformer was fitted with feature names\n",
      "  \"X does not have valid feature names, but\"\n",
      "/home/stan/anaconda3/envs/jupyter/lib/python3.7/site-packages/sklearn/base.py:451: UserWarning: X does not have valid feature names, but PowerTransformer was fitted with feature names\n",
      "  \"X does not have valid feature names, but\"\n",
      "/home/stan/anaconda3/envs/jupyter/lib/python3.7/site-packages/sklearn/base.py:451: UserWarning: X does not have valid feature names, but PowerTransformer was fitted with feature names\n",
      "  \"X does not have valid feature names, but\"\n"
     ]
    },
    {
     "name": "stdout",
     "output_type": "stream",
     "text": [
      "Selected input column type: full\n",
      "Selected output column type:  ['EXO3(Chlorophyll_ug_L)']\n"
     ]
    },
    {
     "name": "stderr",
     "output_type": "stream",
     "text": [
      "/home/stan/anaconda3/envs/jupyter/lib/python3.7/site-packages/sklearn/base.py:451: UserWarning: X does not have valid feature names, but PowerTransformer was fitted with feature names\n",
      "  \"X does not have valid feature names, but\"\n",
      "/home/stan/anaconda3/envs/jupyter/lib/python3.7/site-packages/sklearn/base.py:451: UserWarning: X does not have valid feature names, but PowerTransformer was fitted with feature names\n",
      "  \"X does not have valid feature names, but\"\n",
      "/home/stan/anaconda3/envs/jupyter/lib/python3.7/site-packages/sklearn/base.py:451: UserWarning: X does not have valid feature names, but PowerTransformer was fitted with feature names\n",
      "  \"X does not have valid feature names, but\"\n",
      "/home/stan/anaconda3/envs/jupyter/lib/python3.7/site-packages/sklearn/base.py:451: UserWarning: X does not have valid feature names, but PowerTransformer was fitted with feature names\n",
      "  \"X does not have valid feature names, but\"\n"
     ]
    },
    {
     "name": "stdout",
     "output_type": "stream",
     "text": [
      "Selected input column type: full\n",
      "Selected output column type:  ['EXO3(Chlorophyll_ug_L)']\n"
     ]
    },
    {
     "name": "stderr",
     "output_type": "stream",
     "text": [
      "/home/stan/anaconda3/envs/jupyter/lib/python3.7/site-packages/sklearn/base.py:451: UserWarning: X does not have valid feature names, but PowerTransformer was fitted with feature names\n",
      "  \"X does not have valid feature names, but\"\n",
      "/home/stan/anaconda3/envs/jupyter/lib/python3.7/site-packages/sklearn/base.py:451: UserWarning: X does not have valid feature names, but PowerTransformer was fitted with feature names\n",
      "  \"X does not have valid feature names, but\"\n",
      "/home/stan/anaconda3/envs/jupyter/lib/python3.7/site-packages/sklearn/base.py:451: UserWarning: X does not have valid feature names, but PowerTransformer was fitted with feature names\n",
      "  \"X does not have valid feature names, but\"\n",
      "/home/stan/anaconda3/envs/jupyter/lib/python3.7/site-packages/sklearn/base.py:451: UserWarning: X does not have valid feature names, but PowerTransformer was fitted with feature names\n",
      "  \"X does not have valid feature names, but\"\n"
     ]
    },
    {
     "name": "stdout",
     "output_type": "stream",
     "text": [
      "Selected input column type: full\n",
      "Selected output column type:  ['EXO3(Chlorophyll_ug_L)']\n"
     ]
    },
    {
     "name": "stderr",
     "output_type": "stream",
     "text": [
      "/home/stan/anaconda3/envs/jupyter/lib/python3.7/site-packages/ipykernel_launcher.py:299: DataConversionWarning: A column-vector y was passed when a 1d array was expected. Please change the shape of y to (n_samples,), for example using ravel().\n",
      "[Parallel(n_jobs=-1)]: Using backend ThreadingBackend with 6 concurrent workers.\n",
      "[Parallel(n_jobs=-1)]: Done  38 tasks      | elapsed:    2.2s\n",
      "[Parallel(n_jobs=-1)]: Done 100 out of 100 | elapsed:    5.6s finished\n",
      "[Parallel(n_jobs=6)]: Using backend ThreadingBackend with 6 concurrent workers.\n",
      "[Parallel(n_jobs=6)]: Done  38 tasks      | elapsed:    0.0s\n",
      "[Parallel(n_jobs=6)]: Done 100 out of 100 | elapsed:    0.1s finished\n",
      "/home/stan/anaconda3/envs/jupyter/lib/python3.7/site-packages/sklearn/base.py:451: UserWarning: X does not have valid feature names, but PowerTransformer was fitted with feature names\n",
      "  \"X does not have valid feature names, but\"\n",
      "/home/stan/anaconda3/envs/jupyter/lib/python3.7/site-packages/sklearn/base.py:451: UserWarning: X does not have valid feature names, but PowerTransformer was fitted with feature names\n",
      "  \"X does not have valid feature names, but\"\n",
      "[Parallel(n_jobs=6)]: Using backend ThreadingBackend with 6 concurrent workers.\n",
      "[Parallel(n_jobs=6)]: Done  38 tasks      | elapsed:    0.0s\n",
      "[Parallel(n_jobs=6)]: Done 100 out of 100 | elapsed:    0.1s finished\n",
      "/home/stan/anaconda3/envs/jupyter/lib/python3.7/site-packages/sklearn/base.py:451: UserWarning: X does not have valid feature names, but PowerTransformer was fitted with feature names\n",
      "  \"X does not have valid feature names, but\"\n",
      "/home/stan/anaconda3/envs/jupyter/lib/python3.7/site-packages/sklearn/base.py:451: UserWarning: X does not have valid feature names, but PowerTransformer was fitted with feature names\n",
      "  \"X does not have valid feature names, but\"\n"
     ]
    },
    {
     "name": "stdout",
     "output_type": "stream",
     "text": [
      "Selected input column type: full\n",
      "Selected output column type:  ['EXO3(Chlorophyll_ug_L)']\n"
     ]
    },
    {
     "name": "stderr",
     "output_type": "stream",
     "text": [
      "/home/stan/anaconda3/envs/jupyter/lib/python3.7/site-packages/ipykernel_launcher.py:299: DataConversionWarning: A column-vector y was passed when a 1d array was expected. Please change the shape of y to (n_samples,), for example using ravel().\n",
      "[Parallel(n_jobs=-1)]: Using backend ThreadingBackend with 6 concurrent workers.\n",
      "[Parallel(n_jobs=-1)]: Done  38 tasks      | elapsed:    2.2s\n",
      "[Parallel(n_jobs=-1)]: Done 100 out of 100 | elapsed:    5.4s finished\n",
      "[Parallel(n_jobs=6)]: Using backend ThreadingBackend with 6 concurrent workers.\n",
      "[Parallel(n_jobs=6)]: Done  38 tasks      | elapsed:    0.0s\n",
      "[Parallel(n_jobs=6)]: Done 100 out of 100 | elapsed:    0.1s finished\n",
      "/home/stan/anaconda3/envs/jupyter/lib/python3.7/site-packages/sklearn/base.py:451: UserWarning: X does not have valid feature names, but PowerTransformer was fitted with feature names\n",
      "  \"X does not have valid feature names, but\"\n",
      "/home/stan/anaconda3/envs/jupyter/lib/python3.7/site-packages/sklearn/base.py:451: UserWarning: X does not have valid feature names, but PowerTransformer was fitted with feature names\n",
      "  \"X does not have valid feature names, but\"\n",
      "[Parallel(n_jobs=6)]: Using backend ThreadingBackend with 6 concurrent workers.\n",
      "[Parallel(n_jobs=6)]: Done  38 tasks      | elapsed:    0.1s\n",
      "[Parallel(n_jobs=6)]: Done 100 out of 100 | elapsed:    0.1s finished\n",
      "/home/stan/anaconda3/envs/jupyter/lib/python3.7/site-packages/sklearn/base.py:451: UserWarning: X does not have valid feature names, but PowerTransformer was fitted with feature names\n",
      "  \"X does not have valid feature names, but\"\n",
      "/home/stan/anaconda3/envs/jupyter/lib/python3.7/site-packages/sklearn/base.py:451: UserWarning: X does not have valid feature names, but PowerTransformer was fitted with feature names\n",
      "  \"X does not have valid feature names, but\"\n"
     ]
    },
    {
     "name": "stdout",
     "output_type": "stream",
     "text": [
      "Selected input column type: full\n",
      "Selected output column type:  ['EXO3(Chlorophyll_ug_L)']\n"
     ]
    },
    {
     "name": "stderr",
     "output_type": "stream",
     "text": [
      "/home/stan/anaconda3/envs/jupyter/lib/python3.7/site-packages/ipykernel_launcher.py:299: DataConversionWarning: A column-vector y was passed when a 1d array was expected. Please change the shape of y to (n_samples,), for example using ravel().\n",
      "[Parallel(n_jobs=-1)]: Using backend ThreadingBackend with 6 concurrent workers.\n",
      "[Parallel(n_jobs=-1)]: Done  38 tasks      | elapsed:    2.1s\n",
      "[Parallel(n_jobs=-1)]: Done 100 out of 100 | elapsed:    5.3s finished\n",
      "[Parallel(n_jobs=6)]: Using backend ThreadingBackend with 6 concurrent workers.\n",
      "[Parallel(n_jobs=6)]: Done  38 tasks      | elapsed:    0.1s\n",
      "[Parallel(n_jobs=6)]: Done 100 out of 100 | elapsed:    0.1s finished\n",
      "/home/stan/anaconda3/envs/jupyter/lib/python3.7/site-packages/sklearn/base.py:451: UserWarning: X does not have valid feature names, but PowerTransformer was fitted with feature names\n",
      "  \"X does not have valid feature names, but\"\n",
      "/home/stan/anaconda3/envs/jupyter/lib/python3.7/site-packages/sklearn/base.py:451: UserWarning: X does not have valid feature names, but PowerTransformer was fitted with feature names\n",
      "  \"X does not have valid feature names, but\"\n",
      "[Parallel(n_jobs=6)]: Using backend ThreadingBackend with 6 concurrent workers.\n",
      "[Parallel(n_jobs=6)]: Done  38 tasks      | elapsed:    0.0s\n",
      "[Parallel(n_jobs=6)]: Done 100 out of 100 | elapsed:    0.1s finished\n",
      "/home/stan/anaconda3/envs/jupyter/lib/python3.7/site-packages/sklearn/base.py:451: UserWarning: X does not have valid feature names, but PowerTransformer was fitted with feature names\n",
      "  \"X does not have valid feature names, but\"\n",
      "/home/stan/anaconda3/envs/jupyter/lib/python3.7/site-packages/sklearn/base.py:451: UserWarning: X does not have valid feature names, but PowerTransformer was fitted with feature names\n",
      "  \"X does not have valid feature names, but\"\n",
      "/home/stan/anaconda3/envs/jupyter/lib/python3.7/site-packages/sklearn/preprocessing/_data.py:3253: RuntimeWarning: divide by zero encountered in log\n",
      "  loglike = -n_samples / 2 * np.log(x_trans.var())\n"
     ]
    },
    {
     "name": "stdout",
     "output_type": "stream",
     "text": [
      "Selected input column type: full\n",
      "Selected output column type:  ['EXO3(Chlorophyll_ug_L)']\n"
     ]
    },
    {
     "name": "stderr",
     "output_type": "stream",
     "text": [
      "/home/stan/anaconda3/envs/jupyter/lib/python3.7/site-packages/ipykernel_launcher.py:299: DataConversionWarning: A column-vector y was passed when a 1d array was expected. Please change the shape of y to (n_samples,), for example using ravel().\n",
      "[Parallel(n_jobs=-1)]: Using backend ThreadingBackend with 6 concurrent workers.\n",
      "[Parallel(n_jobs=-1)]: Done  38 tasks      | elapsed:    2.2s\n",
      "[Parallel(n_jobs=-1)]: Done 100 out of 100 | elapsed:    5.5s finished\n",
      "[Parallel(n_jobs=6)]: Using backend ThreadingBackend with 6 concurrent workers.\n",
      "[Parallel(n_jobs=6)]: Done  38 tasks      | elapsed:    0.0s\n",
      "[Parallel(n_jobs=6)]: Done 100 out of 100 | elapsed:    0.0s finished\n",
      "/home/stan/anaconda3/envs/jupyter/lib/python3.7/site-packages/sklearn/base.py:451: UserWarning: X does not have valid feature names, but PowerTransformer was fitted with feature names\n",
      "  \"X does not have valid feature names, but\"\n",
      "/home/stan/anaconda3/envs/jupyter/lib/python3.7/site-packages/sklearn/base.py:451: UserWarning: X does not have valid feature names, but PowerTransformer was fitted with feature names\n",
      "  \"X does not have valid feature names, but\"\n",
      "[Parallel(n_jobs=6)]: Using backend ThreadingBackend with 6 concurrent workers.\n",
      "[Parallel(n_jobs=6)]: Done  38 tasks      | elapsed:    0.1s\n",
      "[Parallel(n_jobs=6)]: Done 100 out of 100 | elapsed:    0.1s finished\n",
      "/home/stan/anaconda3/envs/jupyter/lib/python3.7/site-packages/sklearn/base.py:451: UserWarning: X does not have valid feature names, but PowerTransformer was fitted with feature names\n",
      "  \"X does not have valid feature names, but\"\n",
      "/home/stan/anaconda3/envs/jupyter/lib/python3.7/site-packages/sklearn/base.py:451: UserWarning: X does not have valid feature names, but PowerTransformer was fitted with feature names\n",
      "  \"X does not have valid feature names, but\"\n",
      "/home/stan/anaconda3/envs/jupyter/lib/python3.7/site-packages/sklearn/preprocessing/_data.py:3253: RuntimeWarning: divide by zero encountered in log\n",
      "  loglike = -n_samples / 2 * np.log(x_trans.var())\n"
     ]
    },
    {
     "name": "stdout",
     "output_type": "stream",
     "text": [
      "Selected input column type: full\n",
      "Selected output column type:  ['EXO3(Chlorophyll_ug_L)']\n"
     ]
    },
    {
     "name": "stderr",
     "output_type": "stream",
     "text": [
      "/home/stan/anaconda3/envs/jupyter/lib/python3.7/site-packages/ipykernel_launcher.py:299: DataConversionWarning: A column-vector y was passed when a 1d array was expected. Please change the shape of y to (n_samples,), for example using ravel().\n",
      "[Parallel(n_jobs=-1)]: Using backend ThreadingBackend with 6 concurrent workers.\n",
      "[Parallel(n_jobs=-1)]: Done  38 tasks      | elapsed:    2.1s\n",
      "[Parallel(n_jobs=-1)]: Done 100 out of 100 | elapsed:    5.4s finished\n",
      "[Parallel(n_jobs=6)]: Using backend ThreadingBackend with 6 concurrent workers.\n",
      "[Parallel(n_jobs=6)]: Done  38 tasks      | elapsed:    0.0s\n",
      "[Parallel(n_jobs=6)]: Done 100 out of 100 | elapsed:    0.1s finished\n",
      "/home/stan/anaconda3/envs/jupyter/lib/python3.7/site-packages/sklearn/base.py:451: UserWarning: X does not have valid feature names, but PowerTransformer was fitted with feature names\n",
      "  \"X does not have valid feature names, but\"\n",
      "/home/stan/anaconda3/envs/jupyter/lib/python3.7/site-packages/sklearn/base.py:451: UserWarning: X does not have valid feature names, but PowerTransformer was fitted with feature names\n",
      "  \"X does not have valid feature names, but\"\n",
      "[Parallel(n_jobs=6)]: Using backend ThreadingBackend with 6 concurrent workers.\n",
      "[Parallel(n_jobs=6)]: Done  38 tasks      | elapsed:    0.0s\n",
      "[Parallel(n_jobs=6)]: Done 100 out of 100 | elapsed:    0.1s finished\n",
      "/home/stan/anaconda3/envs/jupyter/lib/python3.7/site-packages/sklearn/base.py:451: UserWarning: X does not have valid feature names, but PowerTransformer was fitted with feature names\n",
      "  \"X does not have valid feature names, but\"\n",
      "/home/stan/anaconda3/envs/jupyter/lib/python3.7/site-packages/sklearn/base.py:451: UserWarning: X does not have valid feature names, but PowerTransformer was fitted with feature names\n",
      "  \"X does not have valid feature names, but\"\n"
     ]
    },
    {
     "name": "stdout",
     "output_type": "stream",
     "text": [
      "Selected input column type: full\n",
      "Selected output column type:  ['EXO3(Chlorophyll_ug_L)']\n"
     ]
    },
    {
     "name": "stderr",
     "output_type": "stream",
     "text": [
      "/home/stan/anaconda3/envs/jupyter/lib/python3.7/site-packages/ipykernel_launcher.py:299: DataConversionWarning: A column-vector y was passed when a 1d array was expected. Please change the shape of y to (n_samples,), for example using ravel().\n",
      "[Parallel(n_jobs=-1)]: Using backend ThreadingBackend with 6 concurrent workers.\n",
      "[Parallel(n_jobs=-1)]: Done  38 tasks      | elapsed:    2.2s\n",
      "[Parallel(n_jobs=-1)]: Done 100 out of 100 | elapsed:    5.5s finished\n",
      "[Parallel(n_jobs=6)]: Using backend ThreadingBackend with 6 concurrent workers.\n",
      "[Parallel(n_jobs=6)]: Done  38 tasks      | elapsed:    0.0s\n",
      "[Parallel(n_jobs=6)]: Done 100 out of 100 | elapsed:    0.1s finished\n",
      "/home/stan/anaconda3/envs/jupyter/lib/python3.7/site-packages/sklearn/base.py:451: UserWarning: X does not have valid feature names, but PowerTransformer was fitted with feature names\n",
      "  \"X does not have valid feature names, but\"\n",
      "/home/stan/anaconda3/envs/jupyter/lib/python3.7/site-packages/sklearn/base.py:451: UserWarning: X does not have valid feature names, but PowerTransformer was fitted with feature names\n",
      "  \"X does not have valid feature names, but\"\n",
      "[Parallel(n_jobs=6)]: Using backend ThreadingBackend with 6 concurrent workers.\n",
      "[Parallel(n_jobs=6)]: Done  38 tasks      | elapsed:    0.1s\n",
      "[Parallel(n_jobs=6)]: Done 100 out of 100 | elapsed:    0.1s finished\n",
      "/home/stan/anaconda3/envs/jupyter/lib/python3.7/site-packages/sklearn/base.py:451: UserWarning: X does not have valid feature names, but PowerTransformer was fitted with feature names\n",
      "  \"X does not have valid feature names, but\"\n",
      "/home/stan/anaconda3/envs/jupyter/lib/python3.7/site-packages/sklearn/base.py:451: UserWarning: X does not have valid feature names, but PowerTransformer was fitted with feature names\n",
      "  \"X does not have valid feature names, but\"\n"
     ]
    },
    {
     "name": "stdout",
     "output_type": "stream",
     "text": [
      "Selected input column type: full\n",
      "Selected output column type:  ['EXO3(Chlorophyll_ug_L)']\n"
     ]
    },
    {
     "name": "stderr",
     "output_type": "stream",
     "text": [
      "/home/stan/anaconda3/envs/jupyter/lib/python3.7/site-packages/ipykernel_launcher.py:299: DataConversionWarning: A column-vector y was passed when a 1d array was expected. Please change the shape of y to (n_samples,), for example using ravel().\n",
      "[Parallel(n_jobs=-1)]: Using backend ThreadingBackend with 6 concurrent workers.\n",
      "[Parallel(n_jobs=-1)]: Done  38 tasks      | elapsed:    2.2s\n",
      "[Parallel(n_jobs=-1)]: Done 100 out of 100 | elapsed:    5.5s finished\n",
      "[Parallel(n_jobs=6)]: Using backend ThreadingBackend with 6 concurrent workers.\n",
      "[Parallel(n_jobs=6)]: Done  38 tasks      | elapsed:    0.1s\n",
      "[Parallel(n_jobs=6)]: Done 100 out of 100 | elapsed:    0.1s finished\n",
      "/home/stan/anaconda3/envs/jupyter/lib/python3.7/site-packages/sklearn/base.py:451: UserWarning: X does not have valid feature names, but PowerTransformer was fitted with feature names\n",
      "  \"X does not have valid feature names, but\"\n",
      "/home/stan/anaconda3/envs/jupyter/lib/python3.7/site-packages/sklearn/base.py:451: UserWarning: X does not have valid feature names, but PowerTransformer was fitted with feature names\n",
      "  \"X does not have valid feature names, but\"\n",
      "[Parallel(n_jobs=6)]: Using backend ThreadingBackend with 6 concurrent workers.\n",
      "[Parallel(n_jobs=6)]: Done  38 tasks      | elapsed:    0.0s\n",
      "[Parallel(n_jobs=6)]: Done 100 out of 100 | elapsed:    0.1s finished\n",
      "/home/stan/anaconda3/envs/jupyter/lib/python3.7/site-packages/sklearn/base.py:451: UserWarning: X does not have valid feature names, but PowerTransformer was fitted with feature names\n",
      "  \"X does not have valid feature names, but\"\n",
      "/home/stan/anaconda3/envs/jupyter/lib/python3.7/site-packages/sklearn/base.py:451: UserWarning: X does not have valid feature names, but PowerTransformer was fitted with feature names\n",
      "  \"X does not have valid feature names, but\"\n"
     ]
    },
    {
     "name": "stdout",
     "output_type": "stream",
     "text": [
      "Selected input column type: full\n",
      "Selected output column type:  ['EXO3(Chlorophyll_ug_L)']\n"
     ]
    },
    {
     "name": "stderr",
     "output_type": "stream",
     "text": [
      "/home/stan/anaconda3/envs/jupyter/lib/python3.7/site-packages/ipykernel_launcher.py:299: DataConversionWarning: A column-vector y was passed when a 1d array was expected. Please change the shape of y to (n_samples,), for example using ravel().\n",
      "[Parallel(n_jobs=-1)]: Using backend ThreadingBackend with 6 concurrent workers.\n",
      "[Parallel(n_jobs=-1)]: Done  38 tasks      | elapsed:    2.2s\n",
      "[Parallel(n_jobs=-1)]: Done 100 out of 100 | elapsed:    5.5s finished\n",
      "[Parallel(n_jobs=6)]: Using backend ThreadingBackend with 6 concurrent workers.\n",
      "[Parallel(n_jobs=6)]: Done  38 tasks      | elapsed:    0.0s\n",
      "[Parallel(n_jobs=6)]: Done 100 out of 100 | elapsed:    0.1s finished\n",
      "/home/stan/anaconda3/envs/jupyter/lib/python3.7/site-packages/sklearn/base.py:451: UserWarning: X does not have valid feature names, but PowerTransformer was fitted with feature names\n",
      "  \"X does not have valid feature names, but\"\n",
      "/home/stan/anaconda3/envs/jupyter/lib/python3.7/site-packages/sklearn/base.py:451: UserWarning: X does not have valid feature names, but PowerTransformer was fitted with feature names\n",
      "  \"X does not have valid feature names, but\"\n",
      "[Parallel(n_jobs=6)]: Using backend ThreadingBackend with 6 concurrent workers.\n",
      "[Parallel(n_jobs=6)]: Done  38 tasks      | elapsed:    0.0s\n",
      "[Parallel(n_jobs=6)]: Done 100 out of 100 | elapsed:    0.1s finished\n",
      "/home/stan/anaconda3/envs/jupyter/lib/python3.7/site-packages/sklearn/base.py:451: UserWarning: X does not have valid feature names, but PowerTransformer was fitted with feature names\n",
      "  \"X does not have valid feature names, but\"\n",
      "/home/stan/anaconda3/envs/jupyter/lib/python3.7/site-packages/sklearn/base.py:451: UserWarning: X does not have valid feature names, but PowerTransformer was fitted with feature names\n",
      "  \"X does not have valid feature names, but\"\n"
     ]
    },
    {
     "name": "stdout",
     "output_type": "stream",
     "text": [
      "Selected input column type: full\n",
      "Selected output column type:  ['EXO3(Chlorophyll_ug_L)']\n"
     ]
    },
    {
     "name": "stderr",
     "output_type": "stream",
     "text": [
      "/home/stan/anaconda3/envs/jupyter/lib/python3.7/site-packages/ipykernel_launcher.py:299: DataConversionWarning: A column-vector y was passed when a 1d array was expected. Please change the shape of y to (n_samples,), for example using ravel().\n",
      "[Parallel(n_jobs=-1)]: Using backend ThreadingBackend with 6 concurrent workers.\n",
      "[Parallel(n_jobs=-1)]: Done  38 tasks      | elapsed:    2.2s\n",
      "[Parallel(n_jobs=-1)]: Done 100 out of 100 | elapsed:    5.5s finished\n",
      "[Parallel(n_jobs=6)]: Using backend ThreadingBackend with 6 concurrent workers.\n",
      "[Parallel(n_jobs=6)]: Done  38 tasks      | elapsed:    0.0s\n",
      "[Parallel(n_jobs=6)]: Done 100 out of 100 | elapsed:    0.1s finished\n",
      "/home/stan/anaconda3/envs/jupyter/lib/python3.7/site-packages/sklearn/base.py:451: UserWarning: X does not have valid feature names, but PowerTransformer was fitted with feature names\n",
      "  \"X does not have valid feature names, but\"\n",
      "/home/stan/anaconda3/envs/jupyter/lib/python3.7/site-packages/sklearn/base.py:451: UserWarning: X does not have valid feature names, but PowerTransformer was fitted with feature names\n",
      "  \"X does not have valid feature names, but\"\n",
      "[Parallel(n_jobs=6)]: Using backend ThreadingBackend with 6 concurrent workers.\n",
      "[Parallel(n_jobs=6)]: Done  38 tasks      | elapsed:    0.0s\n",
      "[Parallel(n_jobs=6)]: Done 100 out of 100 | elapsed:    0.1s finished\n",
      "/home/stan/anaconda3/envs/jupyter/lib/python3.7/site-packages/sklearn/base.py:451: UserWarning: X does not have valid feature names, but PowerTransformer was fitted with feature names\n",
      "  \"X does not have valid feature names, but\"\n",
      "/home/stan/anaconda3/envs/jupyter/lib/python3.7/site-packages/sklearn/base.py:451: UserWarning: X does not have valid feature names, but PowerTransformer was fitted with feature names\n",
      "  \"X does not have valid feature names, but\"\n"
     ]
    },
    {
     "name": "stdout",
     "output_type": "stream",
     "text": [
      "Selected input column type: full\n",
      "Selected output column type:  ['EXO3(Chlorophyll_ug_L)']\n"
     ]
    },
    {
     "name": "stderr",
     "output_type": "stream",
     "text": [
      "/home/stan/anaconda3/envs/jupyter/lib/python3.7/site-packages/ipykernel_launcher.py:299: DataConversionWarning: A column-vector y was passed when a 1d array was expected. Please change the shape of y to (n_samples,), for example using ravel().\n",
      "[Parallel(n_jobs=-1)]: Using backend ThreadingBackend with 6 concurrent workers.\n",
      "[Parallel(n_jobs=-1)]: Done  38 tasks      | elapsed:    2.2s\n",
      "[Parallel(n_jobs=-1)]: Done 100 out of 100 | elapsed:    5.5s finished\n",
      "[Parallel(n_jobs=6)]: Using backend ThreadingBackend with 6 concurrent workers.\n",
      "[Parallel(n_jobs=6)]: Done  38 tasks      | elapsed:    0.0s\n",
      "[Parallel(n_jobs=6)]: Done 100 out of 100 | elapsed:    0.1s finished\n",
      "/home/stan/anaconda3/envs/jupyter/lib/python3.7/site-packages/sklearn/base.py:451: UserWarning: X does not have valid feature names, but PowerTransformer was fitted with feature names\n",
      "  \"X does not have valid feature names, but\"\n",
      "/home/stan/anaconda3/envs/jupyter/lib/python3.7/site-packages/sklearn/base.py:451: UserWarning: X does not have valid feature names, but PowerTransformer was fitted with feature names\n",
      "  \"X does not have valid feature names, but\"\n",
      "[Parallel(n_jobs=6)]: Using backend ThreadingBackend with 6 concurrent workers.\n",
      "[Parallel(n_jobs=6)]: Done  38 tasks      | elapsed:    0.0s\n",
      "[Parallel(n_jobs=6)]: Done 100 out of 100 | elapsed:    0.1s finished\n",
      "/home/stan/anaconda3/envs/jupyter/lib/python3.7/site-packages/sklearn/base.py:451: UserWarning: X does not have valid feature names, but PowerTransformer was fitted with feature names\n",
      "  \"X does not have valid feature names, but\"\n",
      "/home/stan/anaconda3/envs/jupyter/lib/python3.7/site-packages/sklearn/base.py:451: UserWarning: X does not have valid feature names, but PowerTransformer was fitted with feature names\n",
      "  \"X does not have valid feature names, but\"\n"
     ]
    }
   ],
   "source": [
    "from IPython.display import clear_output\n",
    "\n",
    "import numpy as np \n",
    "import pandas as pd\n",
    "\n",
    "import os\n",
    "import time\n",
    "\n",
    "from copy import deepcopy\n",
    "\n",
    "from sklearn.ensemble import RandomForestRegressor\n",
    "from sklearn.linear_model import ElasticNet\n",
    "from sklearn.tree import DecisionTreeRegressor\n",
    "\n",
    "from sklearn.metrics import explained_variance_score\n",
    "from sklearn.metrics import median_absolute_error\n",
    "from sklearn.metrics import r2_score\n",
    "from sklearn.metrics import mean_absolute_error\n",
    "from sklearn.metrics import mean_squared_error\n",
    "from sklearn.model_selection import KFold\n",
    "\n",
    "from sklearn import model_selection\n",
    "from sklearn.preprocessing import StandardScaler, PowerTransformer\n",
    "\n",
    "from sklearn import metrics\n",
    "\n",
    "from sklearn import model_selection as dataset_split\n",
    "from sklearn.preprocessing import StandardScaler\n",
    "\n",
    "import sys\n",
    "\n",
    "MODELS_RANDOM_STATE = 22\n",
    "\n",
    "from sklearn import metrics\n",
    "def process_results_classification(y_original: np.array, y_predicted: np.array) -> dict:\n",
    "    precision, recall, _ = metrics.precision_recall_curve(y_original, y_predicted)\n",
    "    metrics_dic = {\"f1_macro\":metrics.f1_score(y_original, y_predicted, average='macro'),\n",
    "                   \"VERSION\" : 0.1}\n",
    "    return metrics_dic\n",
    "\n",
    "def process_results_regression(y_original: np.array, y_predicted: np.array) -> dict:\n",
    "    metrics_dic = {\"MAE\":mean_absolute_error(y_original, y_predicted),\n",
    "                   \"VERSION\" : 0.2}\n",
    "    return metrics_dic\n",
    "\n",
    "\n",
    "\n",
    "def correct_int(val):\n",
    "    if val is None:\n",
    "        return val\n",
    "    else:\n",
    "        return int(val)\n",
    "\n",
    "def get_random_model_random_forest_regression_default(model_description:dict=None):\n",
    "    n_estimators = 100 # 100 is the default\n",
    "    max_depth =None # None is the default\n",
    "    model_description = model_description if model_description is not None else {\n",
    "        \"Name\" : \"Random-Forest\",\n",
    "        \"max_depth\" : correct_int(max_depth),\n",
    "        \"n_estimators\" : correct_int(n_estimators),\n",
    "        \"VERSION\" : 0.1\n",
    "    }\n",
    "    return RandomForestRegressor(n_estimators=model_description[\"n_estimators\"], \n",
    "                                 max_depth=model_description[\"max_depth\"], \n",
    "                                 n_jobs=-1, \n",
    "                                 verbose=1, \n",
    "                                 random_state=MODELS_RANDOM_STATE), model_description\n",
    "\n",
    "\n",
    "def get_random_model_lr_regression_default(model_description:dict=None):\n",
    "    alpha = 1.0 #default\n",
    "    model_description = model_description if model_description is not None else {\n",
    "        \"Name\" : \"Linear Regression\",\n",
    "        \"alpha\" : alpha,\n",
    "        \"VERSION\" : 0.1\n",
    "    }\n",
    "    return ElasticNet(alpha=model_description[\"alpha\"], l1_ratio=0,\n",
    "                      random_state=MODELS_RANDOM_STATE), model_description\n",
    "\n",
    "def get_random_model_desicion_tree_regression_default(model_description:dict=None):\n",
    "    max_depth = None\n",
    "    model_description = model_description if model_description is not None else {\n",
    "        \"Name\" : \"CART\",\n",
    "        \"max_depth\" : correct_int(max_depth),\n",
    "        \"VERSION\" : 0.1\n",
    "    }\n",
    "    return DecisionTreeRegressor(max_depth=model_description[\"max_depth\"], \n",
    "                                 random_state=MODELS_RANDOM_STATE), model_description\n",
    "\n",
    "\n",
    "\n",
    "\n",
    "\n",
    "\n",
    "models_regression = {\n",
    "    \"LR\" : get_random_model_lr_regression_default,\n",
    "    \"CART\" : get_random_model_desicion_tree_regression_default,\n",
    "    \"RF\" : get_random_model_random_forest_regression_default,\n",
    "}\n",
    "\n",
    "models_regression_desc = models_regression\n",
    "\n",
    "\n",
    "# Dataset Reading\n",
    "\n",
    "TRAIN_FILE = \"./Playa_UPM_resampled_24H_1H.csv\"\n",
    "TEST_FILE = \"./Presa_UPM_resampled_24H_1H.csv\"\n",
    "\n",
    "Training_Dataset = pd.read_csv(TRAIN_FILE)\n",
    "Testing_Dataset = pd.read_csv(TEST_FILE)\n",
    "\n",
    "# Preprocessing\n",
    "\n",
    "Training_Dataset[\"date\"] = Training_Dataset[\"Unnamed: 0\"]\n",
    "Testing_Dataset[\"date\"] = Testing_Dataset[\"Unnamed: 0\"]\n",
    "Training_Dataset = Training_Dataset.T[1:].T\n",
    "Testing_Dataset = Testing_Dataset.T[1:].T\n",
    "\n",
    "orig_size = len(Training_Dataset)\n",
    "Training_Dataset = Training_Dataset.dropna()\n",
    "\n",
    "orig_size = len(Testing_Dataset)\n",
    "Testing_Dataset = Testing_Dataset.dropna()\n",
    "\n",
    "features_selector = {\n",
    "    \"NO-agg\" : lambda x : [c for c in x.columns if (\"4\" not in c) and (\"96\" not in c) and (c != \"date\")],\n",
    "    \"1H-agg\" : lambda x : [c for c in x.columns if (\"96\" not in c) and (c != \"date\")],\n",
    "    \"24H-agg\" : lambda x : [c for c in x.columns if (\"4\" not in c) and (c != \"date\")],\n",
    "    \"ALL-agg\" : lambda x : [c for c in x.columns if (c != \"date\")],\n",
    "}\n",
    "\n",
    "input_features_selector = lambda x, y : [c for c in features_selector[y](x) if \"Chlorophyll\" not in c]\n",
    "\n",
    "output_features_base = {\n",
    "    \"NO-agg\" : ['EXO3(Chlorophyll_ug_L)'],\n",
    "    \"1H-mean\" : ['EXO3(Chlorophyll_ug_L)_mean_4'],\n",
    "    \"1H-median\" : ['EXO3(Chlorophyll_ug_L)_median_4'],\n",
    "    \"24H-mean\" : ['EXO3(Chlorophyll_ug_L)_mean_96'],\n",
    "    \"24H-median\" : ['EXO3(Chlorophyll_ug_L)_median_96']\n",
    "}\n",
    "\n",
    "output_features_selector = lambda x, y : output_features_base[y]\n",
    "\n",
    "def preprocessing_data(df_training, \n",
    "                       df_testing, \n",
    "                       input_features, \n",
    "                       output_features,\n",
    "                       val_fraction = 0.20,\n",
    "                       val_sub_fraction = 0.50,\n",
    "                       shuffle_val_global = True,\n",
    "                       shuffle_val_train = True,\n",
    "                       random_state_split = 66): \n",
    "    # val_train_fraction can be set with very small value to kind of ignore it\n",
    "\n",
    "    X_train, X_val = dataset_split.train_test_split(df_training, \n",
    "                                                      test_size=val_fraction, \n",
    "                                                      random_state=random_state_split, \n",
    "                                                      shuffle=shuffle_val_global)\n",
    "\n",
    "\n",
    "    X_val_train, X_val_hyper = dataset_split.train_test_split(X_val, \n",
    "                                                      test_size=val_sub_fraction, \n",
    "                                                      random_state=random_state_split, \n",
    "                                                      shuffle=shuffle_val_train)\n",
    "\n",
    "    Y_train = X_train[output_features]\n",
    "    X_train = X_train[input_features]\n",
    "\n",
    "    Y_val_hyper = X_val_hyper[output_features]\n",
    "    X_val_hyper = X_val_hyper[input_features]\n",
    "\n",
    "    Y_val_train = X_val_train[output_features]\n",
    "    X_val_train = X_val_train[input_features]\n",
    "\n",
    "    Y_test = df_testing[output_features]\n",
    "    X_test = df_testing[input_features]\n",
    "\n",
    "    scaler_X = PowerTransformer().fit(X_train)\n",
    "    scaler_Y = PowerTransformer().fit(Y_train)\n",
    "    \n",
    "    X_train = scaler_X.transform(X_train)\n",
    "    X_val_hyper = scaler_X.transform(X_val_hyper)\n",
    "    X_val_train = scaler_X.transform(X_val_train)\n",
    "    X_test = scaler_X.transform(X_test)\n",
    "    \n",
    "    Y_train = scaler_Y.transform(Y_train)\n",
    "    Y_val_hyper = scaler_Y.transform(Y_val_hyper)\n",
    "    Y_val_train = scaler_Y.transform(Y_val_train)\n",
    "    Y_test = scaler_Y.transform(Y_test)\n",
    "\n",
    "    X_train = pd.DataFrame(X_train, columns=input_features)\n",
    "    X_val_hyper = pd.DataFrame(X_val_hyper, columns=input_features)\n",
    "    X_val_train = pd.DataFrame(X_val_train, columns=input_features)\n",
    "    X_test = pd.DataFrame(X_test, columns=input_features)\n",
    "\n",
    "    Y_train = pd.DataFrame(Y_train, columns=output_features)\n",
    "    Y_val_hyper = pd.DataFrame(Y_val_hyper, columns=output_features)\n",
    "    Y_val_train = pd.DataFrame(Y_val_train, columns=output_features)\n",
    "    Y_test = pd.DataFrame(Y_test, columns=output_features)\n",
    "    \n",
    "    dict_dataset = {\n",
    "        \"input\" : {\n",
    "            \"train\" : X_train,\n",
    "            \"val_train\" : X_val_train,\n",
    "            \"val_hyper\" : X_val_hyper,\n",
    "            \"test\" : X_test,\n",
    "        },\n",
    "        \"output\" : {\n",
    "            \"train\" : Y_train,\n",
    "            \"val_train\" : Y_val_train,\n",
    "            \"val_hyper\" : Y_val_hyper,\n",
    "            \"test\" : Y_test\n",
    "        },\n",
    "        \"scaler_X\" : scaler_X,\n",
    "        \"scaler_Y\" : scaler_Y,\n",
    "        \"features\" : {\n",
    "            \"input\" : input_features,\n",
    "            \"output\" : output_features\n",
    "        }\n",
    "    }\n",
    "    \n",
    "    return dict_dataset\n",
    "\n",
    "    \n",
    "\n",
    "np.random.seed(2)\n",
    "\n",
    "results_final = {}\n",
    "\n",
    "kf = KFold(n_splits=10, shuffle=False)\n",
    "SEED= 99\n",
    "i = 0\n",
    "j = 0\n",
    "ONE_FOLD = False\n",
    "for model_selection in models_regression:\n",
    "    j = -1\n",
    "    model, model_desc_base = models_regression[model_selection]()\n",
    "\n",
    "    ONE_FOLD = False\n",
    "    if model_desc_base[\"Name\"] not in results_final:\n",
    "        results_final[model_desc_base[\"Name\"]] = {} # Hacer un diccionario con resultados y almacenarlo.\n",
    "\n",
    "    for boya_0_part, boya_1_part in zip(kf.split(Training_Dataset), kf.split(Testing_Dataset)):\n",
    "\n",
    "        training_dataset = pd.concat([Training_Dataset.iloc[boya_0_part[0]], Testing_Dataset.iloc[boya_1_part[0]]], ignore_index=True)\n",
    "        testing_dataset = pd.concat([Training_Dataset.iloc[boya_0_part[1]], Testing_Dataset.iloc[boya_1_part[1]]], ignore_index=True)\n",
    "\n",
    "        j += 1\n",
    "\n",
    "        if ONE_FOLD:\n",
    "            continue\n",
    "        #ONE_FOLD = True\n",
    "        for output_features_name in [\"NO-agg\"]:\n",
    "            for input_features_name in [\"NO-agg\"]:\n",
    "                if output_features_name not in results_final[model_desc_base[\"Name\"]]:\n",
    "                    results_final[model_desc_base[\"Name\"]][output_features_name] = {}\n",
    "                    \n",
    "                if input_features_name not in results_final[model_desc_base[\"Name\"]][output_features_name]:\n",
    "                    results_final[model_desc_base[\"Name\"]][output_features_name][input_features_name] = {}\n",
    "                    results_final[model_desc_base[\"Name\"]][output_features_name][input_features_name][\"b0\"] = []\n",
    "                    results_final[model_desc_base[\"Name\"]][output_features_name][input_features_name][\"b1\"] = []\n",
    "                    \n",
    "                input_features = input_features_selector(training_dataset, input_features_name)\n",
    "                output_feature_selected = output_features_selector(training_dataset, output_features_name)\n",
    "\n",
    "                local_dataset = preprocessing_data(training_dataset, \n",
    "                                           testing_dataset, \n",
    "                                           input_features, \n",
    "                                           output_feature_selected,\n",
    "                                           shuffle_val_global=False,\n",
    "                                           shuffle_val_train=False)\n",
    "\n",
    "\n",
    "                general_experiment_name = model_selection +\"_\" + input_features_name +\"_\" + output_features_name + \"_m_\"+str(i) +\"_k_\"+ str(j)\n",
    "\n",
    "\n",
    "                X_train_local = local_dataset[\"input\"][\"train\"].values\n",
    "                X_val_local = local_dataset[\"input\"][\"val_train\"].values \n",
    "                X_val_train_local = local_dataset[\"input\"][\"val_hyper\"].values \n",
    "                X_test_local = local_dataset[\"input\"][\"test\"].values \n",
    "                print(\"Selected input column type: full\")\n",
    "\n",
    "\n",
    "                Y_train_local = local_dataset[\"output\"][\"train\"][output_feature_selected].values\n",
    "                Y_val_local = local_dataset[\"output\"][\"val_train\"][output_feature_selected].values \n",
    "                Y_val_train_local = local_dataset[\"output\"][\"val_hyper\"][output_feature_selected].values \n",
    "                Y_test_local = local_dataset[\"output\"][\"test\"][output_feature_selected].values \n",
    "                print(\"Selected output column type: \", output_feature_selected)\n",
    "\n",
    "\n",
    "                model, model_desc = models_regression_desc[model_selection](model_desc_base)\n",
    "\n",
    "                # FIT\n",
    "                training_time = time.time()\n",
    "                model.fit(X_train_local, Y_train_local)\n",
    "                training_time = time.time() - training_time\n",
    "\n",
    "                feautres_importance = None\n",
    "                if model_selection == \"RF\":\n",
    "                    feautres_importance = {name:val for name, val in zip(input_features, model.feature_importances_)}\n",
    "\n",
    "\n",
    "\n",
    "\n",
    "                # VALIDATE\n",
    "                validation_time = time.time()\n",
    "\n",
    "                Y_preds = model.predict(X_val_local)\n",
    "\n",
    "                Y_val_local = local_dataset[\"scaler_Y\"].inverse_transform(Y_val_local)\n",
    "                Y_preds = local_dataset[\"scaler_Y\"].inverse_transform(Y_preds.reshape(-1, 1)) \n",
    "                validation_time = time.time() - validation_time\n",
    "                validation_shape = X_val_local.shape\n",
    "                validation_speed = validation_shape[0] / validation_time\n",
    "\n",
    "                results_desc_validation = process_results_regression(Y_val_local, Y_preds)\n",
    "\n",
    "\n",
    "                # TEST\n",
    "                testing_time = time.time()\n",
    "\n",
    "                Y_preds_test = model.predict(X_test_local)\n",
    "\n",
    "                Y_test_local = local_dataset[\"scaler_Y\"].inverse_transform(Y_test_local)\n",
    "                Y_preds_test = local_dataset[\"scaler_Y\"].inverse_transform(Y_preds_test.reshape(-1, 1)) \n",
    "                \n",
    "                testing_time = time.time() - testing_time\n",
    "                \n",
    "                testing_dataset_boya_0 = Training_Dataset.iloc[boya_0_part[1]][['date', output_feature_selected[0]]].copy()\n",
    "                testing_dataset_boya_0[output_feature_selected[0]+ \"_predict\"] = Y_preds_test[:len(boya_0_part[1])]\n",
    "\n",
    "                testing_dataset_boya_1 = Testing_Dataset.iloc[boya_1_part[1]][['date', output_feature_selected[0]]].copy()\n",
    "                testing_dataset_boya_1[output_feature_selected[0]+ \"_predict\"] = Y_preds_test[len(boya_0_part[1]):]\n",
    "\n",
    "                \n",
    "                results_final[model_desc_base[\"Name\"]][output_features_name][input_features_name][\"b0\"].append(testing_dataset_boya_0)\n",
    "                results_final[model_desc_base[\"Name\"]][output_features_name][input_features_name][\"b1\"].append(testing_dataset_boya_1)\n",
    "                \n",
    "                \n",
    "                testing_shape = X_test_local.shape\n",
    "\n",
    "                testing_speed = testing_shape[0] / testing_time\n",
    "\n",
    "                results_desc_test = process_results_regression(Y_test_local, Y_preds_test)\n",
    "\n",
    "\n",
    "\n",
    "                del(local_dataset)\n",
    "                del(X_train_local)\n",
    "                del(X_test_local)\n",
    "                del(X_val_local)\n",
    "                del(X_val_train_local)\n",
    "                del(Y_train_local)\n",
    "                del(Y_test_local)\n",
    "                del(Y_val_local)\n",
    "                del(Y_val_train_local)\n",
    "                del(Y_preds)\n",
    "                del(Y_preds_test)\n",
    "                del(model)\n",
    "                #clear_output(wait=True)\n",
    "    results_final[model_desc_base[\"Name\"]][output_features_name][input_features_name][\"b0\"] = pd.concat(results_final[model_desc_base[\"Name\"]][output_features_name][input_features_name][\"b0\"])\n",
    "    results_final[model_desc_base[\"Name\"]][output_features_name][input_features_name][\"b1\"] = pd.concat(results_final[model_desc_base[\"Name\"]][output_features_name][input_features_name][\"b1\"])"
   ]
  },
  {
   "cell_type": "code",
   "execution_count": 2,
   "metadata": {
    "ExecuteTime": {
     "end_time": "2022-02-11T16:11:19.712214Z",
     "start_time": "2022-02-11T16:11:19.532051Z"
    }
   },
   "outputs": [
    {
     "name": "stdout",
     "output_type": "stream",
     "text": [
      "Linear Regression b0\n",
      "{'MAE': 5.264582900794799, 'VERSION': 0.2}\n",
      "{'f1_macro': 0.448955887844654, 'VERSION': 0.1}\n",
      "Linear Regression b1\n",
      "{'MAE': 5.242184919587791, 'VERSION': 0.2}\n",
      "{'f1_macro': 0.41245593822546167, 'VERSION': 0.1}\n",
      "CART b0\n",
      "{'MAE': 6.519254841997629, 'VERSION': 0.2}\n",
      "{'f1_macro': 0.6414448849331442, 'VERSION': 0.1}\n",
      "CART b1\n",
      "{'MAE': 5.610813193091852, 'VERSION': 0.2}\n",
      "{'f1_macro': 0.6162709963012495, 'VERSION': 0.1}\n",
      "Random-Forest b0\n",
      "{'MAE': 5.767308251543529, 'VERSION': 0.2}\n",
      "{'f1_macro': 0.6741258049896166, 'VERSION': 0.1}\n",
      "Random-Forest b1\n",
      "{'MAE': 4.9131910593587484, 'VERSION': 0.2}\n",
      "{'f1_macro': 0.6377984851724358, 'VERSION': 0.1}\n"
     ]
    }
   ],
   "source": [
    "for c in results_final:\n",
    "    for b in results_final[c][\"NO-agg\"][\"NO-agg\"]:\n",
    "        print(c,b)\n",
    "        print(process_results_regression(results_final[c][\"NO-agg\"][\"NO-agg\"][b][\"EXO3(Chlorophyll_ug_L)\"], results_final[c][\"NO-agg\"][\"NO-agg\"][b][\"EXO3(Chlorophyll_ug_L)_predict\"]))\n",
    "        print(process_results_classification(results_final[c][\"NO-agg\"][\"NO-agg\"][b][\"EXO3(Chlorophyll_ug_L)\"] > 10, results_final[c][\"NO-agg\"][\"NO-agg\"][b][\"EXO3(Chlorophyll_ug_L)_predict\"] > 10))"
   ]
  },
  {
   "cell_type": "code",
   "execution_count": null,
   "metadata": {},
   "outputs": [],
   "source": []
  }
 ],
 "metadata": {
  "kernelspec": {
   "display_name": "Python 3",
   "language": "python",
   "name": "python3"
  },
  "language_info": {
   "codemirror_mode": {
    "name": "ipython",
    "version": 3
   },
   "file_extension": ".py",
   "mimetype": "text/x-python",
   "name": "python",
   "nbconvert_exporter": "python",
   "pygments_lexer": "ipython3",
   "version": "3.7.3"
  },
  "toc": {
   "base_numbering": 1,
   "nav_menu": {},
   "number_sections": true,
   "sideBar": true,
   "skip_h1_title": false,
   "title_cell": "Table of Contents",
   "title_sidebar": "Contents",
   "toc_cell": false,
   "toc_position": {
    "height": "calc(100% - 180px)",
    "left": "10px",
    "top": "150px",
    "width": "307.2px"
   },
   "toc_section_display": true,
   "toc_window_display": false
  },
  "varInspector": {
   "cols": {
    "lenName": 16,
    "lenType": 16,
    "lenVar": 40
   },
   "kernels_config": {
    "python": {
     "delete_cmd_postfix": "",
     "delete_cmd_prefix": "del ",
     "library": "var_list.py",
     "varRefreshCmd": "print(var_dic_list())"
    },
    "r": {
     "delete_cmd_postfix": ") ",
     "delete_cmd_prefix": "rm(",
     "library": "var_list.r",
     "varRefreshCmd": "cat(var_dic_list()) "
    }
   },
   "types_to_exclude": [
    "module",
    "function",
    "builtin_function_or_method",
    "instance",
    "_Feature"
   ],
   "window_display": false
  }
 },
 "nbformat": 4,
 "nbformat_minor": 2
}
